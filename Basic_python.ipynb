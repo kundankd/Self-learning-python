{
  "nbformat": 4,
  "nbformat_minor": 0,
  "metadata": {
    "colab": {
      "provenance": [],
      "toc_visible": true,
      "authorship_tag": "ABX9TyOvYykPogqzNdfbqTjB/lvs",
      "include_colab_link": true
    },
    "kernelspec": {
      "name": "python3",
      "display_name": "Python 3"
    },
    "language_info": {
      "name": "python"
    }
  },
  "cells": [
    {
      "cell_type": "markdown",
      "metadata": {
        "id": "view-in-github",
        "colab_type": "text"
      },
      "source": [
        "<a href=\"https://colab.research.google.com/github/kundankd/Self-learning-python/blob/main/Basic_python.ipynb\" target=\"_parent\"><img src=\"https://colab.research.google.com/assets/colab-badge.svg\" alt=\"Open In Colab\"/></a>"
      ]
    },
    {
      "cell_type": "code",
      "execution_count": null,
      "metadata": {
        "id": "apksrIPUlh7i"
      },
      "outputs": [],
      "source": []
    },
    {
      "cell_type": "markdown",
      "source": [
        "# **1.python output**"
      ],
      "metadata": {
        "id": "sgF3ofX_lzAn"
      }
    },
    {
      "cell_type": "code",
      "source": [
        "# python is case sensitive language\n",
        "\n",
        "print(\"Hello World\")"
      ],
      "metadata": {
        "colab": {
          "base_uri": "https://localhost:8080/"
        },
        "id": "8CM2GsQPl1hb",
        "outputId": "e2fbddc9-174d-4ced-ffc2-be47d5ea6009"
      },
      "execution_count": null,
      "outputs": [
        {
          "output_type": "stream",
          "name": "stdout",
          "text": [
            "Hello World\n"
          ]
        }
      ]
    },
    {
      "cell_type": "code",
      "source": [
        "print(7.66)"
      ],
      "metadata": {
        "colab": {
          "base_uri": "https://localhost:8080/"
        },
        "id": "WIPseko_mBfz",
        "outputId": "63e6e11f-09b4-4796-f9a2-9d596f33b193"
      },
      "execution_count": null,
      "outputs": [
        {
          "output_type": "stream",
          "name": "stdout",
          "text": [
            "7.66\n"
          ]
        }
      ]
    },
    {
      "cell_type": "code",
      "source": [
        "print(True)"
      ],
      "metadata": {
        "colab": {
          "base_uri": "https://localhost:8080/"
        },
        "id": "sYJpzSb7mcwE",
        "outputId": "136ee16e-6a3f-4483-c27c-d656fa2785ce"
      },
      "execution_count": null,
      "outputs": [
        {
          "output_type": "stream",
          "name": "stdout",
          "text": [
            "True\n"
          ]
        }
      ]
    },
    {
      "cell_type": "code",
      "source": [
        "print(\"kundan\",5,9.33,sep='-')"
      ],
      "metadata": {
        "colab": {
          "base_uri": "https://localhost:8080/"
        },
        "id": "Wj_anuq3meuw",
        "outputId": "a51c41c4-5d2e-4d3f-8e64-9a101df29a70"
      },
      "execution_count": null,
      "outputs": [
        {
          "output_type": "stream",
          "name": "stdout",
          "text": [
            "kundan-5-9.33\n"
          ]
        }
      ]
    },
    {
      "cell_type": "code",
      "source": [
        "print(\"kundan\", end =\" \")\n",
        "print(\"kumar\")"
      ],
      "metadata": {
        "colab": {
          "base_uri": "https://localhost:8080/"
        },
        "id": "BTPS6s6aneiV",
        "outputId": "77e46c9a-80b2-418c-d7bc-6485c840b994"
      },
      "execution_count": null,
      "outputs": [
        {
          "output_type": "stream",
          "name": "stdout",
          "text": [
            "kundan kumar\n"
          ]
        }
      ]
    },
    {
      "cell_type": "code",
      "source": [],
      "metadata": {
        "id": "K8Ksj0rdnvQz"
      },
      "execution_count": null,
      "outputs": []
    },
    {
      "cell_type": "markdown",
      "source": [
        "# 2. **Data** **Types**"
      ],
      "metadata": {
        "id": "pCCkkWeZoBjG"
      }
    },
    {
      "cell_type": "code",
      "source": [
        "# 1 integer\n",
        "print(-7)"
      ],
      "metadata": {
        "colab": {
          "base_uri": "https://localhost:8080/"
        },
        "id": "sJjzsTnjoOd3",
        "outputId": "423d5ea4-498f-44d2-f269-1a7bfb0104f1"
      },
      "execution_count": null,
      "outputs": [
        {
          "output_type": "stream",
          "name": "stdout",
          "text": [
            "-7\n"
          ]
        }
      ]
    },
    {
      "cell_type": "code",
      "source": [
        "# 1*10^308\n",
        "print(1e308)\n",
        "print(1e309)"
      ],
      "metadata": {
        "colab": {
          "base_uri": "https://localhost:8080/"
        },
        "id": "T3QRaJNso1fI",
        "outputId": "23475950-33e8-4521-9c27-5f042b4401a5"
      },
      "execution_count": null,
      "outputs": [
        {
          "output_type": "stream",
          "name": "stdout",
          "text": [
            "1e+308\n",
            "inf\n"
          ]
        }
      ]
    },
    {
      "cell_type": "code",
      "source": [
        "# 2.Decimal/Float\n",
        "print(2.34)"
      ],
      "metadata": {
        "colab": {
          "base_uri": "https://localhost:8080/"
        },
        "id": "GFHdyQGZpESB",
        "outputId": "7bf3562b-e8ef-470c-c48a-b1e90352017b"
      },
      "execution_count": null,
      "outputs": [
        {
          "output_type": "stream",
          "name": "stdout",
          "text": [
            "2.34\n"
          ]
        }
      ]
    },
    {
      "cell_type": "code",
      "source": [
        "# 3. Boolean\n",
        "print(False)"
      ],
      "metadata": {
        "colab": {
          "base_uri": "https://localhost:8080/"
        },
        "id": "2PVcsf1rpU6A",
        "outputId": "ec02299f-614d-48f4-9ec8-aa90ef891f7a"
      },
      "execution_count": null,
      "outputs": [
        {
          "output_type": "stream",
          "name": "stdout",
          "text": [
            "False\n"
          ]
        }
      ]
    },
    {
      "cell_type": "code",
      "source": [
        "# 4.complex\n",
        "print(3+3j)"
      ],
      "metadata": {
        "colab": {
          "base_uri": "https://localhost:8080/"
        },
        "id": "DQMckgYspcRg",
        "outputId": "93093445-6e7f-40d9-a7ce-509cf1dc8a17"
      },
      "execution_count": null,
      "outputs": [
        {
          "output_type": "stream",
          "name": "stdout",
          "text": [
            "(3+3j)\n"
          ]
        }
      ]
    },
    {
      "cell_type": "code",
      "source": [
        "# 5. string\n",
        "print(\"Hi i am kundan\")\n"
      ],
      "metadata": {
        "colab": {
          "base_uri": "https://localhost:8080/"
        },
        "id": "VJ_ZIxDqpi6A",
        "outputId": "ecf4efa4-dee7-4f8e-d98d-3533946d093d"
      },
      "execution_count": null,
      "outputs": [
        {
          "output_type": "stream",
          "name": "stdout",
          "text": [
            "Hi i am kundan\n"
          ]
        }
      ]
    },
    {
      "cell_type": "code",
      "source": [
        "# 6. List\n",
        "l = [1,2,3,4]\n",
        "print(l)"
      ],
      "metadata": {
        "colab": {
          "base_uri": "https://localhost:8080/"
        },
        "id": "w8JBxvLOptQD",
        "outputId": "954f7bdf-e4c5-41bc-940a-fd86d7fd5ce9"
      },
      "execution_count": null,
      "outputs": [
        {
          "output_type": "stream",
          "name": "stdout",
          "text": [
            "[1, 2, 3, 4]\n"
          ]
        }
      ]
    },
    {
      "cell_type": "code",
      "source": [
        "# 7.tuple\n",
        "print((1,2,3,4))"
      ],
      "metadata": {
        "colab": {
          "base_uri": "https://localhost:8080/"
        },
        "id": "LzN0HmP4p3hh",
        "outputId": "e4c23f53-c64f-44b2-d9e9-7e1c030b0166"
      },
      "execution_count": null,
      "outputs": [
        {
          "output_type": "stream",
          "name": "stdout",
          "text": [
            "(1, 2, 3, 4)\n"
          ]
        }
      ]
    },
    {
      "cell_type": "code",
      "source": [
        "# 8. set\n",
        "print({1,2,3,4,5})"
      ],
      "metadata": {
        "colab": {
          "base_uri": "https://localhost:8080/"
        },
        "id": "C2xDCYwrqO0G",
        "outputId": "244a44df-545d-4c52-bbf6-f81bb722fd93"
      },
      "execution_count": null,
      "outputs": [
        {
          "output_type": "stream",
          "name": "stdout",
          "text": [
            "{1, 2, 3, 4, 5}\n"
          ]
        }
      ]
    },
    {
      "cell_type": "code",
      "source": [
        "# 9. dictionary\n",
        "print({1:'kundan','age':26})\n",
        "print(type({1:'kundan','age':26}))    # type func used for check datatype"
      ],
      "metadata": {
        "colab": {
          "base_uri": "https://localhost:8080/"
        },
        "id": "H4cWyB8OqT8E",
        "outputId": "c295ab68-ad2b-45f7-8789-654f1e8854d0"
      },
      "execution_count": null,
      "outputs": [
        {
          "output_type": "stream",
          "name": "stdout",
          "text": [
            "{1: 'kundan', 'age': 26}\n",
            "<class 'dict'>\n"
          ]
        }
      ]
    },
    {
      "cell_type": "code",
      "source": [],
      "metadata": {
        "id": "sfm7OEN1qieN"
      },
      "execution_count": null,
      "outputs": []
    },
    {
      "cell_type": "markdown",
      "source": [
        "# Variable"
      ],
      "metadata": {
        "id": "ZYVda0qWq5V9"
      }
    },
    {
      "cell_type": "code",
      "source": [
        "# variable r container which is used to hold the information\n",
        "\n",
        "a =34\n",
        "print(a)"
      ],
      "metadata": {
        "colab": {
          "base_uri": "https://localhost:8080/"
        },
        "id": "QOrEPGHUq8zm",
        "outputId": "dd8a75e1-6b4e-4ce9-b3f2-5574cd51eda0"
      },
      "execution_count": null,
      "outputs": [
        {
          "output_type": "stream",
          "name": "stdout",
          "text": [
            "34\n"
          ]
        }
      ]
    },
    {
      "cell_type": "code",
      "source": [
        "a,b= 4,5\n",
        "print(a*b)"
      ],
      "metadata": {
        "colab": {
          "base_uri": "https://localhost:8080/"
        },
        "id": "NWXDzuLir5cV",
        "outputId": "b1042684-7d66-4631-a54a-cb29bbe867a7"
      },
      "execution_count": null,
      "outputs": [
        {
          "output_type": "stream",
          "name": "stdout",
          "text": [
            "20\n"
          ]
        }
      ]
    },
    {
      "cell_type": "code",
      "source": [
        "# Dynamic typing\n",
        "# in python not need to define datatype of while declaring the variable\n",
        "\n",
        "# static typing    c/c++/java\n",
        "# int a = 5\n",
        "# print(a)"
      ],
      "metadata": {
        "colab": {
          "base_uri": "https://localhost:8080/",
          "height": 130
        },
        "id": "EnbSg4RisIsT",
        "outputId": "e1bd325b-be5b-4450-a7d7-7e1e2e3a8323"
      },
      "execution_count": null,
      "outputs": [
        {
          "output_type": "error",
          "ename": "SyntaxError",
          "evalue": "ignored",
          "traceback": [
            "\u001b[0;36m  File \u001b[0;32m\"<ipython-input-23-9adb3cdfa3b2>\"\u001b[0;36m, line \u001b[0;32m5\u001b[0m\n\u001b[0;31m    int a = 5\u001b[0m\n\u001b[0m        ^\u001b[0m\n\u001b[0;31mSyntaxError\u001b[0m\u001b[0;31m:\u001b[0m invalid syntax\n"
          ]
        }
      ]
    },
    {
      "cell_type": "code",
      "source": [
        "# Dynamic binding-it hold differnt datatype in same var in same prgrm in python\n",
        "a =5 \n",
        "print(a)\n",
        "\n",
        "a =\"kd\"\n",
        "print(a)\n"
      ],
      "metadata": {
        "colab": {
          "base_uri": "https://localhost:8080/"
        },
        "id": "BZJD0muZszkY",
        "outputId": "c05d241a-81bd-41be-e6f6-acff16c254df"
      },
      "execution_count": null,
      "outputs": [
        {
          "output_type": "stream",
          "name": "stdout",
          "text": [
            "5\n",
            "kd\n"
          ]
        }
      ]
    },
    {
      "cell_type": "code",
      "source": [
        "# stylish declaration techniques\n",
        "a,b,c=1,2,3\n",
        "print(a,b,c)"
      ],
      "metadata": {
        "colab": {
          "base_uri": "https://localhost:8080/"
        },
        "id": "Gpc-f8W7taEU",
        "outputId": "0f96d526-2734-4a9b-ff69-abd5b52aa864"
      },
      "execution_count": null,
      "outputs": [
        {
          "output_type": "stream",
          "name": "stdout",
          "text": [
            "1 2 3\n"
          ]
        }
      ]
    },
    {
      "cell_type": "code",
      "source": [
        "a=b=c=10\n",
        "print(a,b,c)"
      ],
      "metadata": {
        "colab": {
          "base_uri": "https://localhost:8080/"
        },
        "id": "NMDvaam3tziZ",
        "outputId": "f401e9e9-fe3d-4959-e456-b4c035480cde"
      },
      "execution_count": null,
      "outputs": [
        {
          "output_type": "stream",
          "name": "stdout",
          "text": [
            "10 10 10\n"
          ]
        }
      ]
    },
    {
      "cell_type": "code",
      "source": [],
      "metadata": {
        "id": "vTyOoCK_t4yQ"
      },
      "execution_count": null,
      "outputs": []
    },
    {
      "cell_type": "markdown",
      "source": [
        "**Comments**"
      ],
      "metadata": {
        "id": "4m8-bhdeupEx"
      }
    },
    {
      "cell_type": "code",
      "source": [
        "# piece of code where interpreter ignore dont excute it is used to expain our code readable\n"
      ],
      "metadata": {
        "id": "9fe3lBJvut8i"
      },
      "execution_count": null,
      "outputs": []
    },
    {
      "cell_type": "code",
      "source": [],
      "metadata": {
        "id": "JKD890nEvAus"
      },
      "execution_count": null,
      "outputs": []
    },
    {
      "cell_type": "markdown",
      "source": [
        "# Keywords and Identifiers"
      ],
      "metadata": {
        "id": "SjNFwp6tvB31"
      }
    },
    {
      "cell_type": "code",
      "source": [
        "# compilation is convert our program into binary code\n",
        "\n",
        "# keywords r those word who reserved by python ...32 keyword in python\n"
      ],
      "metadata": {
        "id": "zCapC-hVvHd6"
      },
      "execution_count": null,
      "outputs": []
    },
    {
      "cell_type": "markdown",
      "source": [],
      "metadata": {
        "id": "00Urs5gD49Un"
      }
    },
    {
      "cell_type": "code",
      "source": [],
      "metadata": {
        "id": "zRzDOLLR49-F"
      },
      "execution_count": null,
      "outputs": []
    },
    {
      "cell_type": "code",
      "source": [
        "# identifier Rules\n",
        "# 1.Can't start with digit\n",
        "# 2.use only underscore(_) as a special char\n",
        "# 3. identifier cant be keywords"
      ],
      "metadata": {
        "id": "kRHQgfw4x1vU"
      },
      "execution_count": null,
      "outputs": []
    },
    {
      "cell_type": "code",
      "source": [],
      "metadata": {
        "id": "B-IC7MCjyftg"
      },
      "execution_count": null,
      "outputs": []
    },
    {
      "cell_type": "markdown",
      "source": [
        "# User Input"
      ],
      "metadata": {
        "id": "BBYs3xieygk7"
      }
    },
    {
      "cell_type": "code",
      "source": [
        "#  by default input take string bcz string is universal DT all other DT are stored in string  \n",
        "a = int(input(\"enter ist number\"))\n",
        "b = int(input(\"enter 2nd number\"))\n",
        "\n",
        "print(a+b)"
      ],
      "metadata": {
        "colab": {
          "base_uri": "https://localhost:8080/"
        },
        "id": "rMw8KBbnykIK",
        "outputId": "6f859298-d572-4139-f2b1-0deb2ead8226"
      },
      "execution_count": null,
      "outputs": [
        {
          "output_type": "stream",
          "name": "stdout",
          "text": [
            "enter ist number4\n",
            "enter 2nd number5\n",
            "9\n"
          ]
        }
      ]
    },
    {
      "cell_type": "code",
      "source": [],
      "metadata": {
        "id": "2WMATmSdzCTa"
      },
      "execution_count": null,
      "outputs": []
    },
    {
      "cell_type": "markdown",
      "source": [
        "# Type Conversion"
      ],
      "metadata": {
        "id": "DN5-qIjI1mO_"
      }
    },
    {
      "cell_type": "code",
      "source": [
        "# type conversion donot change the original data type  ........vvimp\n",
        "# implicit \n",
        "a =5\n",
        "b=5.66\n",
        "print(a+b)\n",
        "\n",
        "# print(4+'4') its not run "
      ],
      "metadata": {
        "colab": {
          "base_uri": "https://localhost:8080/"
        },
        "id": "6aV3UU1u1qKA",
        "outputId": "1ad54a30-2dd8-4238-9247-141fdc1ccbd7"
      },
      "execution_count": null,
      "outputs": [
        {
          "output_type": "stream",
          "name": "stdout",
          "text": [
            "10.66\n"
          ]
        }
      ]
    },
    {
      "cell_type": "code",
      "source": [
        "# Explicit\n",
        "# convert str into int\n",
        "a =int('4444')\n",
        "print(a)\n",
        "\n",
        "#  int  ..>str\n",
        "str(3)\n",
        "\n",
        "# float\n",
        "float(5)"
      ],
      "metadata": {
        "colab": {
          "base_uri": "https://localhost:8080/"
        },
        "id": "psUnLYtY10lY",
        "outputId": "bb284b34-712a-415b-c257-b5033ed56ee8"
      },
      "execution_count": null,
      "outputs": [
        {
          "output_type": "stream",
          "name": "stdout",
          "text": [
            "4444\n"
          ]
        },
        {
          "output_type": "execute_result",
          "data": {
            "text/plain": [
              "5.0"
            ]
          },
          "metadata": {},
          "execution_count": 35
        }
      ]
    },
    {
      "cell_type": "code",
      "source": [],
      "metadata": {
        "id": "Jio64C-n2R-k"
      },
      "execution_count": null,
      "outputs": []
    }
  ]
}